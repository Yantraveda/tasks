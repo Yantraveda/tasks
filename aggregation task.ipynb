{
 "cells": [
  {
   "cell_type": "markdown",
   "id": "190b1aa6",
   "metadata": {},
   "source": [
    "# Problem statement:\n",
    "get the count of unique categories on the basis of particular column"
   ]
  },
  {
   "cell_type": "code",
   "execution_count": 1,
   "id": "48db65ac",
   "metadata": {},
   "outputs": [],
   "source": [
    "import pandas as pd\n",
    "import numpy as np\n",
    "\n",
    "df = pd.read_csv('agg_data.csv',index_col=[0])"
   ]
  },
  {
   "cell_type": "code",
   "execution_count": 2,
   "id": "26e0da49",
   "metadata": {
    "scrolled": true
   },
   "outputs": [
    {
     "data": {
      "text/html": [
       "<div>\n",
       "<style scoped>\n",
       "    .dataframe tbody tr th:only-of-type {\n",
       "        vertical-align: middle;\n",
       "    }\n",
       "\n",
       "    .dataframe tbody tr th {\n",
       "        vertical-align: top;\n",
       "    }\n",
       "\n",
       "    .dataframe thead th {\n",
       "        text-align: right;\n",
       "    }\n",
       "</style>\n",
       "<table border=\"1\" class=\"dataframe\">\n",
       "  <thead>\n",
       "    <tr style=\"text-align: right;\">\n",
       "      <th></th>\n",
       "      <th>carat</th>\n",
       "      <th>cut</th>\n",
       "      <th>clarity</th>\n",
       "      <th>depth</th>\n",
       "    </tr>\n",
       "  </thead>\n",
       "  <tbody>\n",
       "    <tr>\n",
       "      <th>1</th>\n",
       "      <td>0.23</td>\n",
       "      <td>Ideal</td>\n",
       "      <td>SI2</td>\n",
       "      <td>62</td>\n",
       "    </tr>\n",
       "    <tr>\n",
       "      <th>2</th>\n",
       "      <td>0.21</td>\n",
       "      <td>Premium</td>\n",
       "      <td>SI1</td>\n",
       "      <td>60</td>\n",
       "    </tr>\n",
       "    <tr>\n",
       "      <th>3</th>\n",
       "      <td>0.23</td>\n",
       "      <td>Good</td>\n",
       "      <td>VS1</td>\n",
       "      <td>57</td>\n",
       "    </tr>\n",
       "    <tr>\n",
       "      <th>4</th>\n",
       "      <td>0.29</td>\n",
       "      <td>Premium</td>\n",
       "      <td>VS2</td>\n",
       "      <td>62</td>\n",
       "    </tr>\n",
       "    <tr>\n",
       "      <th>5</th>\n",
       "      <td>0.31</td>\n",
       "      <td>Good</td>\n",
       "      <td>SI2</td>\n",
       "      <td>63</td>\n",
       "    </tr>\n",
       "  </tbody>\n",
       "</table>\n",
       "</div>"
      ],
      "text/plain": [
       "   carat      cut clarity  depth\n",
       "1   0.23    Ideal     SI2     62\n",
       "2   0.21  Premium     SI1     60\n",
       "3   0.23     Good     VS1     57\n",
       "4   0.29  Premium     VS2     62\n",
       "5   0.31     Good     SI2     63"
      ]
     },
     "execution_count": 2,
     "metadata": {},
     "output_type": "execute_result"
    }
   ],
   "source": [
    "df.head() # The dataset is look like this about the diamond"
   ]
  },
  {
   "cell_type": "code",
   "execution_count": 11,
   "id": "6bbd0bb2",
   "metadata": {},
   "outputs": [],
   "source": [
    "df = df.iloc[:300,:]"
   ]
  },
  {
   "cell_type": "code",
   "execution_count": 9,
   "id": "be763b71",
   "metadata": {},
   "outputs": [
    {
     "data": {
      "text/html": [
       "<div>\n",
       "<style scoped>\n",
       "    .dataframe tbody tr th:only-of-type {\n",
       "        vertical-align: middle;\n",
       "    }\n",
       "\n",
       "    .dataframe tbody tr th {\n",
       "        vertical-align: top;\n",
       "    }\n",
       "\n",
       "    .dataframe thead th {\n",
       "        text-align: right;\n",
       "    }\n",
       "</style>\n",
       "<table border=\"1\" class=\"dataframe\">\n",
       "  <thead>\n",
       "    <tr style=\"text-align: right;\">\n",
       "      <th></th>\n",
       "      <th>carat</th>\n",
       "      <th>cut</th>\n",
       "      <th>clarity</th>\n",
       "      <th>depth</th>\n",
       "    </tr>\n",
       "  </thead>\n",
       "  <tbody>\n",
       "    <tr>\n",
       "      <th>1</th>\n",
       "      <td>0.23</td>\n",
       "      <td>Ideal</td>\n",
       "      <td>SI2</td>\n",
       "      <td>62</td>\n",
       "    </tr>\n",
       "    <tr>\n",
       "      <th>2</th>\n",
       "      <td>0.21</td>\n",
       "      <td>Premium</td>\n",
       "      <td>SI1</td>\n",
       "      <td>60</td>\n",
       "    </tr>\n",
       "    <tr>\n",
       "      <th>3</th>\n",
       "      <td>0.23</td>\n",
       "      <td>Good</td>\n",
       "      <td>VS1</td>\n",
       "      <td>57</td>\n",
       "    </tr>\n",
       "    <tr>\n",
       "      <th>4</th>\n",
       "      <td>0.29</td>\n",
       "      <td>Premium</td>\n",
       "      <td>VS2</td>\n",
       "      <td>62</td>\n",
       "    </tr>\n",
       "    <tr>\n",
       "      <th>5</th>\n",
       "      <td>0.31</td>\n",
       "      <td>Good</td>\n",
       "      <td>SI2</td>\n",
       "      <td>63</td>\n",
       "    </tr>\n",
       "    <tr>\n",
       "      <th>...</th>\n",
       "      <td>...</td>\n",
       "      <td>...</td>\n",
       "      <td>...</td>\n",
       "      <td>...</td>\n",
       "    </tr>\n",
       "    <tr>\n",
       "      <th>296</th>\n",
       "      <td>0.74</td>\n",
       "      <td>Ideal</td>\n",
       "      <td>VS1</td>\n",
       "      <td>62</td>\n",
       "    </tr>\n",
       "    <tr>\n",
       "      <th>297</th>\n",
       "      <td>0.70</td>\n",
       "      <td>Fair</td>\n",
       "      <td>VVS1</td>\n",
       "      <td>59</td>\n",
       "    </tr>\n",
       "    <tr>\n",
       "      <th>298</th>\n",
       "      <td>0.80</td>\n",
       "      <td>Premium</td>\n",
       "      <td>SI2</td>\n",
       "      <td>61</td>\n",
       "    </tr>\n",
       "    <tr>\n",
       "      <th>299</th>\n",
       "      <td>1.01</td>\n",
       "      <td>Fair</td>\n",
       "      <td>SI2</td>\n",
       "      <td>67</td>\n",
       "    </tr>\n",
       "    <tr>\n",
       "      <th>300</th>\n",
       "      <td>0.80</td>\n",
       "      <td>Very Good</td>\n",
       "      <td>VS2</td>\n",
       "      <td>63</td>\n",
       "    </tr>\n",
       "  </tbody>\n",
       "</table>\n",
       "<p>300 rows × 4 columns</p>\n",
       "</div>"
      ],
      "text/plain": [
       "     carat        cut clarity  depth\n",
       "1     0.23      Ideal     SI2     62\n",
       "2     0.21    Premium     SI1     60\n",
       "3     0.23       Good     VS1     57\n",
       "4     0.29    Premium     VS2     62\n",
       "5     0.31       Good     SI2     63\n",
       "..     ...        ...     ...    ...\n",
       "296   0.74      Ideal     VS1     62\n",
       "297   0.70       Fair    VVS1     59\n",
       "298   0.80    Premium     SI2     61\n",
       "299   1.01       Fair     SI2     67\n",
       "300   0.80  Very Good     VS2     63\n",
       "\n",
       "[300 rows x 4 columns]"
      ]
     },
     "execution_count": 9,
     "metadata": {},
     "output_type": "execute_result"
    }
   ],
   "source": [
    "df"
   ]
  },
  {
   "cell_type": "code",
   "execution_count": 12,
   "id": "4226093e",
   "metadata": {},
   "outputs": [
    {
     "data": {
      "text/plain": [
       "62    96\n",
       "61    64\n",
       "63    52\n",
       "60    30\n",
       "64    22\n",
       "59    13\n",
       "58    10\n",
       "65     4\n",
       "66     3\n",
       "57     2\n",
       "55     2\n",
       "68     1\n",
       "67     1\n",
       "Name: depth, dtype: int64"
      ]
     },
     "execution_count": 12,
     "metadata": {},
     "output_type": "execute_result"
    }
   ],
   "source": [
    "df['depth'].value_counts()"
   ]
  },
  {
   "cell_type": "code",
   "execution_count": 14,
   "id": "10482566",
   "metadata": {},
   "outputs": [
    {
     "data": {
      "text/html": [
       "<div>\n",
       "<style scoped>\n",
       "    .dataframe tbody tr th:only-of-type {\n",
       "        vertical-align: middle;\n",
       "    }\n",
       "\n",
       "    .dataframe tbody tr th {\n",
       "        vertical-align: top;\n",
       "    }\n",
       "\n",
       "    .dataframe thead th {\n",
       "        text-align: right;\n",
       "    }\n",
       "</style>\n",
       "<table border=\"1\" class=\"dataframe\">\n",
       "  <thead>\n",
       "    <tr style=\"text-align: right;\">\n",
       "      <th></th>\n",
       "      <th>carat</th>\n",
       "      <th>cut</th>\n",
       "      <th>clarity</th>\n",
       "      <th>depth</th>\n",
       "    </tr>\n",
       "  </thead>\n",
       "  <tbody>\n",
       "    <tr>\n",
       "      <th>1</th>\n",
       "      <td>0.23</td>\n",
       "      <td>Ideal</td>\n",
       "      <td>SI2</td>\n",
       "      <td>62</td>\n",
       "    </tr>\n",
       "    <tr>\n",
       "      <th>2</th>\n",
       "      <td>0.21</td>\n",
       "      <td>Premium</td>\n",
       "      <td>SI1</td>\n",
       "      <td>60</td>\n",
       "    </tr>\n",
       "    <tr>\n",
       "      <th>3</th>\n",
       "      <td>0.23</td>\n",
       "      <td>Good</td>\n",
       "      <td>VS1</td>\n",
       "      <td>57</td>\n",
       "    </tr>\n",
       "    <tr>\n",
       "      <th>4</th>\n",
       "      <td>0.29</td>\n",
       "      <td>Premium</td>\n",
       "      <td>VS2</td>\n",
       "      <td>62</td>\n",
       "    </tr>\n",
       "    <tr>\n",
       "      <th>5</th>\n",
       "      <td>0.31</td>\n",
       "      <td>Good</td>\n",
       "      <td>SI2</td>\n",
       "      <td>63</td>\n",
       "    </tr>\n",
       "  </tbody>\n",
       "</table>\n",
       "</div>"
      ],
      "text/plain": [
       "   carat      cut clarity  depth\n",
       "1   0.23    Ideal     SI2     62\n",
       "2   0.21  Premium     SI1     60\n",
       "3   0.23     Good     VS1     57\n",
       "4   0.29  Premium     VS2     62\n",
       "5   0.31     Good     SI2     63"
      ]
     },
     "execution_count": 14,
     "metadata": {},
     "output_type": "execute_result"
    }
   ],
   "source": [
    "df.head()"
   ]
  },
  {
   "cell_type": "code",
   "execution_count": 16,
   "id": "978775b5",
   "metadata": {},
   "outputs": [
    {
     "data": {
      "text/plain": [
       "Ideal        89\n",
       "Premium      82\n",
       "Very Good    82\n",
       "Good         34\n",
       "Fair         13\n",
       "Name: cut, dtype: int64"
      ]
     },
     "execution_count": 16,
     "metadata": {},
     "output_type": "execute_result"
    }
   ],
   "source": [
    "df['cut'].value_counts()"
   ]
  },
  {
   "cell_type": "code",
   "execution_count": 17,
   "id": "a2a237a9",
   "metadata": {},
   "outputs": [
    {
     "data": {
      "text/plain": [
       "62    96\n",
       "61    64\n",
       "63    52\n",
       "60    30\n",
       "64    22\n",
       "59    13\n",
       "58    10\n",
       "65     4\n",
       "66     3\n",
       "57     2\n",
       "55     2\n",
       "68     1\n",
       "67     1\n",
       "Name: depth, dtype: int64"
      ]
     },
     "execution_count": 17,
     "metadata": {},
     "output_type": "execute_result"
    }
   ],
   "source": [
    "df['depth'].value_counts()"
   ]
  },
  {
   "cell_type": "code",
   "execution_count": 19,
   "id": "54d97e45",
   "metadata": {},
   "outputs": [],
   "source": [
    "gby_df = df.groupby('depth')"
   ]
  },
  {
   "cell_type": "code",
   "execution_count": 20,
   "id": "5590b0db",
   "metadata": {},
   "outputs": [
    {
     "data": {
      "text/plain": [
       "<pandas.core.groupby.generic.DataFrameGroupBy object at 0x000001F930E9B610>"
      ]
     },
     "execution_count": 20,
     "metadata": {},
     "output_type": "execute_result"
    }
   ],
   "source": [
    "gby_df"
   ]
  },
  {
   "cell_type": "code",
   "execution_count": 21,
   "id": "64f1b4d9",
   "metadata": {},
   "outputs": [],
   "source": [
    "gby_df =gby_df.get_group(64)"
   ]
  },
  {
   "cell_type": "code",
   "execution_count": 23,
   "id": "b5c7009d",
   "metadata": {},
   "outputs": [
    {
     "name": "stderr",
     "output_type": "stream",
     "text": [
      "C:\\Users\\Lenovo\\anaconda3\\lib\\site-packages\\pandas\\core\\frame.py:4110: SettingWithCopyWarning: \n",
      "A value is trying to be set on a copy of a slice from a DataFrame\n",
      "\n",
      "See the caveats in the documentation: http://pandas.pydata.org/pandas-docs/stable/user_guide/indexing.html#returning-a-view-versus-a-copy\n",
      "  return super().drop(\n"
     ]
    }
   ],
   "source": [
    "gby_df.drop('carat', axis = 1, inplace=True)"
   ]
  },
  {
   "cell_type": "code",
   "execution_count": 24,
   "id": "9d27f480",
   "metadata": {},
   "outputs": [
    {
     "data": {
      "text/html": [
       "<div>\n",
       "<style scoped>\n",
       "    .dataframe tbody tr th:only-of-type {\n",
       "        vertical-align: middle;\n",
       "    }\n",
       "\n",
       "    .dataframe tbody tr th {\n",
       "        vertical-align: top;\n",
       "    }\n",
       "\n",
       "    .dataframe thead th {\n",
       "        text-align: right;\n",
       "    }\n",
       "</style>\n",
       "<table border=\"1\" class=\"dataframe\">\n",
       "  <thead>\n",
       "    <tr style=\"text-align: right;\">\n",
       "      <th></th>\n",
       "      <th>cut</th>\n",
       "      <th>clarity</th>\n",
       "      <th>depth</th>\n",
       "    </tr>\n",
       "  </thead>\n",
       "  <tbody>\n",
       "    <tr>\n",
       "      <th>11</th>\n",
       "      <td>Good</td>\n",
       "      <td>SI1</td>\n",
       "      <td>64</td>\n",
       "    </tr>\n",
       "    <tr>\n",
       "      <th>19</th>\n",
       "      <td>Good</td>\n",
       "      <td>SI1</td>\n",
       "      <td>64</td>\n",
       "    </tr>\n",
       "    <tr>\n",
       "      <th>22</th>\n",
       "      <td>Very Good</td>\n",
       "      <td>VS2</td>\n",
       "      <td>64</td>\n",
       "    </tr>\n",
       "    <tr>\n",
       "      <th>37</th>\n",
       "      <td>Good</td>\n",
       "      <td>VS1</td>\n",
       "      <td>64</td>\n",
       "    </tr>\n",
       "    <tr>\n",
       "      <th>38</th>\n",
       "      <td>Good</td>\n",
       "      <td>SI1</td>\n",
       "      <td>64</td>\n",
       "    </tr>\n",
       "  </tbody>\n",
       "</table>\n",
       "</div>"
      ],
      "text/plain": [
       "          cut clarity  depth\n",
       "11       Good     SI1     64\n",
       "19       Good     SI1     64\n",
       "22  Very Good     VS2     64\n",
       "37       Good     VS1     64\n",
       "38       Good     SI1     64"
      ]
     },
     "execution_count": 24,
     "metadata": {},
     "output_type": "execute_result"
    }
   ],
   "source": [
    "gby_df.head()"
   ]
  },
  {
   "cell_type": "code",
   "execution_count": 27,
   "id": "903b4a9b",
   "metadata": {},
   "outputs": [
    {
     "data": {
      "text/plain": [
       "SI1    8\n",
       "VS2    8\n",
       "SI2    3\n",
       "VS1    2\n",
       "I1     1\n",
       "Name: clarity, dtype: int64"
      ]
     },
     "execution_count": 27,
     "metadata": {},
     "output_type": "execute_result"
    }
   ],
   "source": [
    "gby_df['clarity'].value_counts()"
   ]
  },
  {
   "cell_type": "code",
   "execution_count": 28,
   "id": "02c10759",
   "metadata": {},
   "outputs": [
    {
     "data": {
      "text/plain": [
       "Good         11\n",
       "Very Good     8\n",
       "Fair          3\n",
       "Name: cut, dtype: int64"
      ]
     },
     "execution_count": 28,
     "metadata": {},
     "output_type": "execute_result"
    }
   ],
   "source": [
    "gby_df['cut'].value_counts()"
   ]
  },
  {
   "cell_type": "code",
   "execution_count": null,
   "id": "51dd9858",
   "metadata": {},
   "outputs": [],
   "source": [
    "df \n",
    "\n",
    "id   si1 vs2 si2vs1 i1 good very good fair\n",
    "64   8    8    3 2   1  11    8        3"
   ]
  },
  {
   "cell_type": "code",
   "execution_count": 29,
   "id": "eebe44e0",
   "metadata": {},
   "outputs": [
    {
     "data": {
      "text/plain": [
       "array([62, 60, 57, 63, 65, 59, 64, 61, 58, 55, 66, 68, 67], dtype=int64)"
      ]
     },
     "execution_count": 29,
     "metadata": {},
     "output_type": "execute_result"
    }
   ],
   "source": [
    "df_id = df['depth'].unique()\n",
    "df_id"
   ]
  },
  {
   "cell_type": "code",
   "execution_count": 31,
   "id": "2b3f3dc3",
   "metadata": {},
   "outputs": [],
   "source": [
    "column_list = ['cut', 'clarity']"
   ]
  },
  {
   "cell_type": "code",
   "execution_count": 32,
   "id": "97fdb910",
   "metadata": {},
   "outputs": [],
   "source": [
    "emty_df = pd.DataFrame()"
   ]
  },
  {
   "cell_type": "code",
   "execution_count": null,
   "id": "60bdcc75",
   "metadata": {},
   "outputs": [],
   "source": [
    "for gid in df_id:\n",
    "    emty_df = emty_df.append(gby_df(gid), ignore_index=True)   #get df on every id\n",
    "    for i in column_list:\n",
    "        abc = emty_df[i].value_counts()     #vc on every id\n",
    "        xyz = pd.DataFrame(columns=abc.index)\n",
    "        xyz = pd.DataFrame(xyz.append(abc))\n",
    "        print(\"DataFrame Agg.: \",xyz.head())\n",
    "        break\n",
    "        "
   ]
  },
  {
   "cell_type": "code",
   "execution_count": null,
   "id": "cf0236c8",
   "metadata": {},
   "outputs": [],
   "source": []
  },
  {
   "cell_type": "code",
   "execution_count": null,
   "id": "5df88182",
   "metadata": {},
   "outputs": [],
   "source": []
  },
  {
   "cell_type": "code",
   "execution_count": null,
   "id": "d7f7282d",
   "metadata": {},
   "outputs": [],
   "source": []
  },
  {
   "cell_type": "code",
   "execution_count": null,
   "id": "e8ab72d7",
   "metadata": {},
   "outputs": [],
   "source": [
    "  for uc in self.unique_id(): #iterate through unique id\n",
    "            gby_df = gby_df.append(Primary_col_gby.get_group(uc),ignore_index=True)\n",
    "    \n",
    "            for i in self.column_list(): # iterate through column names\n",
    "                abc = gby_df[i].value_counts()\n",
    "                xyz = pd.DataFrame(columns=abc.index)\n",
    "                xyz = pd.DataFrame(xyz.append(abc))\n",
    "                print(\"DataFrame Agg.: \",xyz.head())\n",
    "                break"
   ]
  },
  {
   "cell_type": "code",
   "execution_count": null,
   "id": "8fb12b4f",
   "metadata": {},
   "outputs": [],
   "source": []
  },
  {
   "cell_type": "code",
   "execution_count": 4,
   "id": "423d3e3f",
   "metadata": {},
   "outputs": [
    {
     "data": {
      "text/plain": [
       "Ideal        21551\n",
       "Premium      13791\n",
       "Very Good    12082\n",
       "Good          4906\n",
       "Fair          1610\n",
       "Name: cut, dtype: int64"
      ]
     },
     "execution_count": 4,
     "metadata": {},
     "output_type": "execute_result"
    }
   ],
   "source": [
    "df['cut'].value_counts()"
   ]
  },
  {
   "cell_type": "code",
   "execution_count": 5,
   "id": "499b1283",
   "metadata": {},
   "outputs": [
    {
     "data": {
      "text/plain": [
       "array(['Ideal', 'Premium', 'Good', 'Very Good', 'Fair'], dtype=object)"
      ]
     },
     "execution_count": 5,
     "metadata": {},
     "output_type": "execute_result"
    }
   ],
   "source": [
    "# groupby using cut and get the no of unique cat\n",
    "unique_cut = df['cut'].unique()\n",
    "unique_cut"
   ]
  },
  {
   "cell_type": "code",
   "execution_count": 98,
   "id": "98fbc2f7",
   "metadata": {},
   "outputs": [],
   "source": [
    "cut_gby = df.groupby(['cut'])"
   ]
  },
  {
   "cell_type": "code",
   "execution_count": 95,
   "id": "4248f080",
   "metadata": {},
   "outputs": [],
   "source": [
    "column_list = [x for x in df.columns if x !='cut']"
   ]
  },
  {
   "cell_type": "code",
   "execution_count": 96,
   "id": "4d0a1ca2",
   "metadata": {},
   "outputs": [
    {
     "data": {
      "text/plain": [
       "['carat', 'clarity', 'depth']"
      ]
     },
     "execution_count": 96,
     "metadata": {},
     "output_type": "execute_result"
    }
   ],
   "source": [
    "column_list"
   ]
  },
  {
   "cell_type": "code",
   "execution_count": 99,
   "id": "77829e85",
   "metadata": {},
   "outputs": [],
   "source": [
    "# Empty data frame\n",
    "gby_df = pd.DataFrame()"
   ]
  },
  {
   "cell_type": "code",
   "execution_count": 100,
   "id": "26cacff2",
   "metadata": {},
   "outputs": [
    {
     "name": "stdout",
     "output_type": "stream",
     "text": [
      "DataFrame Agg.:         0.30  0.31  0.32 0.33 0.41 0.70 0.40 0.51 0.34 0.71  ... 3.50 1.48  \\\n",
      "carat  1247  1209  1066  673  667  560  545  525  508  499  ...    1    1   \n",
      "\n",
      "      2.49 2.47 1.92 1.82 2.59 2.42 2.63 2.75  \n",
      "carat    1    1    1    1    1    1    1    1  \n",
      "\n",
      "[1 rows x 232 columns]\n",
      "DataFrame Agg.:            VS2   SI1   VS1  VVS2   SI2  VVS1    IF   I1\n",
      "clarity  5071  4282  3589  2606  2598  2047  1212  146\n",
      "DataFrame Agg.:            62    61    63    60   59  64  65 58 43 67 66\n",
      "depth  12771  5352  2004  1243  127  32  10  9  1  1  1\n"
     ]
    }
   ],
   "source": [
    "for uc in unique_cut:\n",
    "    gby_df = gby_df.append(cut_gby.get_group(uc),ignore_index=True)\n",
    "    \n",
    "    for i in column_list:\n",
    "        abc = gby_df[i].value_counts()\n",
    "        xyz = pd.DataFrame(columns=abc.index)\n",
    "        xyz = pd.DataFrame(xyz.append(abc))\n",
    "        print(\"DataFrame Agg.: \",xyz.head())\n",
    "    break"
   ]
  },
  {
   "cell_type": "code",
   "execution_count": 101,
   "id": "10431924",
   "metadata": {},
   "outputs": [
    {
     "data": {
      "text/html": [
       "<div>\n",
       "<style scoped>\n",
       "    .dataframe tbody tr th:only-of-type {\n",
       "        vertical-align: middle;\n",
       "    }\n",
       "\n",
       "    .dataframe tbody tr th {\n",
       "        vertical-align: top;\n",
       "    }\n",
       "\n",
       "    .dataframe thead th {\n",
       "        text-align: right;\n",
       "    }\n",
       "</style>\n",
       "<table border=\"1\" class=\"dataframe\">\n",
       "  <thead>\n",
       "    <tr style=\"text-align: right;\">\n",
       "      <th></th>\n",
       "      <th>62</th>\n",
       "      <th>61</th>\n",
       "      <th>63</th>\n",
       "      <th>60</th>\n",
       "      <th>59</th>\n",
       "      <th>64</th>\n",
       "      <th>65</th>\n",
       "      <th>58</th>\n",
       "      <th>43</th>\n",
       "      <th>67</th>\n",
       "      <th>66</th>\n",
       "    </tr>\n",
       "  </thead>\n",
       "  <tbody>\n",
       "    <tr>\n",
       "      <th>depth</th>\n",
       "      <td>12771</td>\n",
       "      <td>5352</td>\n",
       "      <td>2004</td>\n",
       "      <td>1243</td>\n",
       "      <td>127</td>\n",
       "      <td>32</td>\n",
       "      <td>10</td>\n",
       "      <td>9</td>\n",
       "      <td>1</td>\n",
       "      <td>1</td>\n",
       "      <td>1</td>\n",
       "    </tr>\n",
       "  </tbody>\n",
       "</table>\n",
       "</div>"
      ],
      "text/plain": [
       "          62    61    63    60   59  64  65 58 43 67 66\n",
       "depth  12771  5352  2004  1243  127  32  10  9  1  1  1"
      ]
     },
     "execution_count": 101,
     "metadata": {},
     "output_type": "execute_result"
    }
   ],
   "source": [
    "xyz.head()"
   ]
  },
  {
   "cell_type": "code",
   "execution_count": 102,
   "id": "4def4057",
   "metadata": {},
   "outputs": [
    {
     "data": {
      "text/html": [
       "<div>\n",
       "<style scoped>\n",
       "    .dataframe tbody tr th:only-of-type {\n",
       "        vertical-align: middle;\n",
       "    }\n",
       "\n",
       "    .dataframe tbody tr th {\n",
       "        vertical-align: top;\n",
       "    }\n",
       "\n",
       "    .dataframe thead th {\n",
       "        text-align: right;\n",
       "    }\n",
       "</style>\n",
       "<table border=\"1\" class=\"dataframe\">\n",
       "  <thead>\n",
       "    <tr style=\"text-align: right;\">\n",
       "      <th></th>\n",
       "      <th>VS2</th>\n",
       "      <th>SI1</th>\n",
       "      <th>VS1</th>\n",
       "      <th>VVS2</th>\n",
       "      <th>SI2</th>\n",
       "      <th>VVS1</th>\n",
       "      <th>IF</th>\n",
       "      <th>I1</th>\n",
       "    </tr>\n",
       "  </thead>\n",
       "  <tbody>\n",
       "    <tr>\n",
       "      <th>clarity</th>\n",
       "      <td>5071</td>\n",
       "      <td>4282</td>\n",
       "      <td>3589</td>\n",
       "      <td>2606</td>\n",
       "      <td>2598</td>\n",
       "      <td>2047</td>\n",
       "      <td>1212</td>\n",
       "      <td>146</td>\n",
       "    </tr>\n",
       "  </tbody>\n",
       "</table>\n",
       "</div>"
      ],
      "text/plain": [
       "          VS2   SI1   VS1  VVS2   SI2  VVS1    IF   I1\n",
       "clarity  5071  4282  3589  2606  2598  2047  1212  146"
      ]
     },
     "execution_count": 102,
     "metadata": {},
     "output_type": "execute_result"
    }
   ],
   "source": [
    "abc = gby_df['clarity'].value_counts()\n",
    "xyz = pd.DataFrame(columns=abc.index)\n",
    "xyz = pd.DataFrame(xyz.append(abc))\n",
    "xyz"
   ]
  },
  {
   "cell_type": "code",
   "execution_count": 149,
   "id": "21710f4f",
   "metadata": {},
   "outputs": [],
   "source": [
    "class aggrigation:\n",
    "    \"\"\"For Aggrigation\n",
    "    df -> input Main dataframe\n",
    "    Primary_col_name -> insert GOC_ID\"\"\"\n",
    "    def __init__(self,df,Primary_col_name='cut'): # I put this cut as default wrt my dataset\n",
    "        \n",
    "        self.df = df\n",
    "        self.Primary_col_name = Primary_col_name\n",
    "        \n",
    "    def unique_id(self):\n",
    "        \"\"\"To get unique GOC_ID\"\"\"\n",
    "        return [x for x in self.df[self.Primary_col_name].unique()]\n",
    "    \n",
    "    def column_list(self):\n",
    "        \"\"\"Get column list excluding Primary column\n",
    "        Ex: in your dataset case its GOC_ID\"\"\"\n",
    "        return [x for x in df.columns if x!= str(self.Primary_col_name)]\n",
    "    \n",
    "    def agg(self):\n",
    "        \"\"\"Finally get the output in data frame for each aggrigation\"\"\"\n",
    "        gby_df = pd.DataFrame()\n",
    "        Primary_col_gby = self.df.groupby([self.Primary_col_name])\n",
    "        \n",
    "        for uc in self.unique_id(): #iterate through unique id\n",
    "            gby_df = gby_df.append(Primary_col_gby.get_group(uc),ignore_index=True)\n",
    "    \n",
    "            for i in self.column_list(): # iterate through column names\n",
    "                abc = gby_df[i].value_counts()\n",
    "                xyz = pd.DataFrame(columns=abc.index)\n",
    "                xyz = pd.DataFrame(xyz.append(abc))\n",
    "                print(\"DataFrame Agg.: \",xyz.head())\n",
    "                break\n",
    "        "
   ]
  },
  {
   "cell_type": "code",
   "execution_count": 150,
   "id": "0d8d0f63",
   "metadata": {},
   "outputs": [],
   "source": [
    "agg = aggrigation(df)"
   ]
  },
  {
   "cell_type": "code",
   "execution_count": 151,
   "id": "e60719ca",
   "metadata": {},
   "outputs": [
    {
     "name": "stdout",
     "output_type": "stream",
     "text": [
      "DataFrame Agg.:         0.30  0.31  0.32 0.33 0.41 0.70 0.40 0.51 0.34 0.71  ... 3.50 1.48  \\\n",
      "carat  1247  1209  1066  673  667  560  545  525  508  499  ...    1    1   \n",
      "\n",
      "      2.49 2.47 1.92 1.82 2.59 2.42 2.63 2.75  \n",
      "carat    1    1    1    1    1    1    1    1  \n",
      "\n",
      "[1 rows x 232 columns]\n",
      "DataFrame Agg.:         0.30  0.31  0.32  1.01  0.41 0.33 0.70 0.40 0.71 0.51  ... 2.59 3.24  \\\n",
      "carat  1844  1723  1476  1074  1016  979  974  860  774  756  ...    1    1   \n",
      "\n",
      "      1.99 3.05 2.77 1.96 2.68 1.95 2.64 1.94  \n",
      "carat    1    1    1    1    1    1    1    1  \n",
      "\n",
      "[1 rows x 260 columns]\n",
      "DataFrame Agg.:         0.30  0.31  0.32  1.01  0.70  0.41  0.33  1.00  0.40 0.71  ... 3.05  \\\n",
      "carat  2061  1899  1570  1478  1264  1133  1013  1003  1001  895  ...    1   \n",
      "\n",
      "      2.77 1.96 2.68 1.95 2.64 2.59 1.92 3.50 2.67  \n",
      "carat    1    1    1    1    1    1    1    1    1  \n",
      "\n",
      "[1 rows x 263 columns]\n",
      "DataFrame Agg.:         0.30  0.31  1.01  0.70  0.32  1.00  0.90  0.41  0.40  0.71  ... 3.22  \\\n",
      "carat  2584  2240  2117  1844  1837  1392  1381  1377  1290  1250  ...    1   \n",
      "\n",
      "      3.50 3.24 2.71 2.65 2.59 3.67 2.77 3.05 2.64  \n",
      "carat    1    1    1    1    1    1    1    1    1  \n",
      "\n",
      "[1 rows x 266 columns]\n",
      "DataFrame Agg.:         0.30  0.31  1.01  0.70  0.32  1.00  0.90  0.41  0.40  0.71  ... 2.71  \\\n",
      "carat  2604  2249  2242  1981  1840  1558  1485  1382  1299  1294  ...    1   \n",
      "\n",
      "      2.65 3.67 3.50 3.22 3.05 2.77 2.59 2.64 4.50  \n",
      "carat    1    1    1    1    1    1    1    1    1  \n",
      "\n",
      "[1 rows x 273 columns]\n"
     ]
    }
   ],
   "source": [
    "agg.agg() # This is the final output wrt my dataset"
   ]
  },
  {
   "cell_type": "code",
   "execution_count": null,
   "id": "26e44914",
   "metadata": {},
   "outputs": [],
   "source": []
  }
 ],
 "metadata": {
  "kernelspec": {
   "display_name": "Python 3",
   "language": "python",
   "name": "python3"
  },
  "language_info": {
   "codemirror_mode": {
    "name": "ipython",
    "version": 3
   },
   "file_extension": ".py",
   "mimetype": "text/x-python",
   "name": "python",
   "nbconvert_exporter": "python",
   "pygments_lexer": "ipython3",
   "version": "3.8.8"
  }
 },
 "nbformat": 4,
 "nbformat_minor": 5
}
